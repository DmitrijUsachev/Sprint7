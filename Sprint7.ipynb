{
 "cells": [
  {
   "cell_type": "markdown",
   "id": "f4d784cc",
   "metadata": {},
   "source": [
    "# 1. Постановка задачи "
   ]
  },
  {
   "cell_type": "markdown",
   "id": "48376005",
   "metadata": {},
   "source": [
    "По данным о пробах нефти и скважинах в 3-ех регионах требуется построить модель для определения региона, где добыча нефти принесёт наибольшую прибыль. Проанализировать возможную прибыль и риски техникой Bootstrap.\n",
    "\n",
    "Шаги для выбора локации обычно такие:\n",
    "- В избранном регионе собирают характеристики для скважин: качество нефти и объём её запасов;\n",
    "- Строят модель для предсказания объёма запасов в новых скважинах;\n",
    "- Выбирают скважины с самыми высокими оценками значений;\n",
    "- Определяют регион с максимальной суммарной прибылью отобранных скважин"
   ]
  },
  {
   "cell_type": "markdown",
   "id": "2a355d5c",
   "metadata": {},
   "source": [
    "**Описание данных**\n",
    "\n",
    "Данные геологоразведки трёх регионов находятся в файлах: \n",
    "/datasets/geo_data_0.csv. \n",
    "/datasets/geo_data_1.csv. \n",
    "/datasets/geo_data_2.csv. \n",
    "\n",
    "id — уникальный идентификатор скважины;  \n",
    "f0, f1, f2 — три признака точек (неважно, что они означают, но сами признаки значимы);  \n",
    "product — объём запасов в скважине (тыс. баррелей).  \n",
    "\n",
    "**Условия задачи:**  \n",
    "\n",
    "- Для обучения модели подходит только линейная регрессия (остальные — недостаточно предсказуемые).  \n",
    "- При разведке региона исследуют 500 точек, из которых с помощью машинного обучения выбирают 200 лучших для разработки.  \n",
    "- Бюджет на разработку скважин в регионе — 10 млрд рублей.  \n",
    "- При нынешних ценах один баррель сырья приносит 450 рублей дохода. Доход с каждой единицы продукта составляет 450 тыс. рублей, поскольку объём указан в тысячах баррелей.  \n",
    "- После оценки рисков нужно оставить лишь те регионы, в которых вероятность убытков меньше 2.5%. Среди них выбирают регион с наибольшей средней прибылью. \n",
    "\n",
    "Данные синтетические: детали контрактов и характеристики месторождений не разглашаются.  "
   ]
  },
  {
   "cell_type": "markdown",
   "id": "32e6281e",
   "metadata": {},
   "source": [
    "# 2. Загрузка и предобработка данных "
   ]
  },
  {
   "cell_type": "markdown",
   "id": "edeafeea",
   "metadata": {},
   "source": [
    "## 2.1 Импорт библиотек и загрузка данных"
   ]
  },
  {
   "cell_type": "markdown",
   "id": "3db0f5c8",
   "metadata": {},
   "source": [
    "**Импорт библиотек**"
   ]
  },
  {
   "cell_type": "code",
   "execution_count": 1,
   "id": "3253f794",
   "metadata": {},
   "outputs": [],
   "source": [
    "import numpy as np\n",
    "import pandas as pd\n",
    "import matplotlib.pyplot as plt\n",
    "import seaborn as sns\n",
    "\n",
    "from sklearn.pipeline import Pipeline\n",
    "from sklearn.linear_model import LinearRegression\n",
    "from sklearn.ensemble import RandomForestClassifier, RandomForestRegressor\n",
    "from sklearn.compose import ColumnTransformer\n",
    "from sklearn.impute import SimpleImputer, KNNImputer\n",
    "from sklearn.preprocessing import StandardScaler, MinMaxScaler, RobustScaler, OneHotEncoder\n",
    "from sklearn.metrics import r2_score, accuracy_score, confusion_matrix, f1_score, log_loss\n",
    "from sklearn.metrics import mean_squared_error, mean_absolute_error\n",
    "from sklearn.model_selection import train_test_split\n",
    "from scipy import stats as st"
   ]
  },
  {
   "cell_type": "markdown",
   "id": "dd65c349",
   "metadata": {},
   "source": [
    "**Импорт данных**"
   ]
  },
  {
   "cell_type": "code",
   "execution_count": 2,
   "id": "cfc28a52",
   "metadata": {},
   "outputs": [],
   "source": [
    "def read_data_set(pth1, pth2) -> pd.DataFrame:\n",
    "    df = pd.DataFrame    \n",
    "    try:\n",
    "        df = pd.read_csv(pth1)\n",
    "    except OSError as e:\n",
    "        df = pd.read_csv(pth2)\n",
    "    return df"
   ]
  },
  {
   "cell_type": "code",
   "execution_count": 3,
   "id": "41a9a171",
   "metadata": {},
   "outputs": [],
   "source": [
    "pth1 = ['datasets/geo_data_0.csv', 'datasets/geo_data_1.csv', 'datasets/geo_data_2.csv']\n",
    "pth2 = (['https://code.s3.yandex.net/datasets/geo_data_0.csv', 'https://code.s3.yandex.net/datasets/geo_data_1.csv',\n",
    "         'https://code.s3.yandex.net/datasets/geo_data_2.csv'])"
   ]
  },
  {
   "cell_type": "code",
   "execution_count": 4,
   "id": "b119e996",
   "metadata": {},
   "outputs": [],
   "source": [
    "df0 = read_data_set(pth1[0], pth2[0]);\n",
    "df1 = read_data_set(pth1[1], pth2[1]);\n",
    "df2 = read_data_set(pth1[2], pth2[2]);"
   ]
  },
  {
   "cell_type": "markdown",
   "id": "bbbbe485",
   "metadata": {},
   "source": [
    "**Проверка импорта данных**"
   ]
  },
  {
   "cell_type": "code",
   "execution_count": 5,
   "id": "131f6842",
   "metadata": {},
   "outputs": [
    {
     "name": "stdout",
     "output_type": "stream",
     "text": [
      "<class 'pandas.core.frame.DataFrame'>\n",
      "RangeIndex: 100000 entries, 0 to 99999\n",
      "Data columns (total 5 columns):\n",
      " #   Column   Non-Null Count   Dtype  \n",
      "---  ------   --------------   -----  \n",
      " 0   id       100000 non-null  object \n",
      " 1   f0       100000 non-null  float64\n",
      " 2   f1       100000 non-null  float64\n",
      " 3   f2       100000 non-null  float64\n",
      " 4   product  100000 non-null  float64\n",
      "dtypes: float64(4), object(1)\n",
      "memory usage: 3.8+ MB\n"
     ]
    },
    {
     "data": {
      "text/html": [
       "<div>\n",
       "<style scoped>\n",
       "    .dataframe tbody tr th:only-of-type {\n",
       "        vertical-align: middle;\n",
       "    }\n",
       "\n",
       "    .dataframe tbody tr th {\n",
       "        vertical-align: top;\n",
       "    }\n",
       "\n",
       "    .dataframe thead th {\n",
       "        text-align: right;\n",
       "    }\n",
       "</style>\n",
       "<table border=\"1\" class=\"dataframe\">\n",
       "  <thead>\n",
       "    <tr style=\"text-align: right;\">\n",
       "      <th></th>\n",
       "      <th>id</th>\n",
       "      <th>f0</th>\n",
       "      <th>f1</th>\n",
       "      <th>f2</th>\n",
       "      <th>product</th>\n",
       "    </tr>\n",
       "  </thead>\n",
       "  <tbody>\n",
       "    <tr>\n",
       "      <th>35556</th>\n",
       "      <td>naguK</td>\n",
       "      <td>0.989348</td>\n",
       "      <td>0.408365</td>\n",
       "      <td>5.607166</td>\n",
       "      <td>132.682983</td>\n",
       "    </tr>\n",
       "    <tr>\n",
       "      <th>1801</th>\n",
       "      <td>xo8Vo</td>\n",
       "      <td>0.826453</td>\n",
       "      <td>0.376480</td>\n",
       "      <td>3.841721</td>\n",
       "      <td>68.287483</td>\n",
       "    </tr>\n",
       "    <tr>\n",
       "      <th>61741</th>\n",
       "      <td>KQY0v</td>\n",
       "      <td>1.268547</td>\n",
       "      <td>-0.632729</td>\n",
       "      <td>2.151605</td>\n",
       "      <td>181.683567</td>\n",
       "    </tr>\n",
       "    <tr>\n",
       "      <th>31670</th>\n",
       "      <td>Igvhv</td>\n",
       "      <td>0.306326</td>\n",
       "      <td>0.016606</td>\n",
       "      <td>3.365159</td>\n",
       "      <td>100.485455</td>\n",
       "    </tr>\n",
       "    <tr>\n",
       "      <th>56319</th>\n",
       "      <td>ojlA3</td>\n",
       "      <td>0.827475</td>\n",
       "      <td>0.489170</td>\n",
       "      <td>0.976850</td>\n",
       "      <td>103.303097</td>\n",
       "    </tr>\n",
       "  </tbody>\n",
       "</table>\n",
       "</div>"
      ],
      "text/plain": [
       "          id        f0        f1        f2     product\n",
       "35556  naguK  0.989348  0.408365  5.607166  132.682983\n",
       "1801   xo8Vo  0.826453  0.376480  3.841721   68.287483\n",
       "61741  KQY0v  1.268547 -0.632729  2.151605  181.683567\n",
       "31670  Igvhv  0.306326  0.016606  3.365159  100.485455\n",
       "56319  ojlA3  0.827475  0.489170  0.976850  103.303097"
      ]
     },
     "execution_count": 5,
     "metadata": {},
     "output_type": "execute_result"
    }
   ],
   "source": [
    "df0.info()\n",
    "df0.sample(5)"
   ]
  },
  {
   "cell_type": "markdown",
   "id": "35235074",
   "metadata": {},
   "source": [
    "## 2.2 Предобработка данных"
   ]
  },
  {
   "cell_type": "code",
   "execution_count": 6,
   "id": "8edd76c8",
   "metadata": {},
   "outputs": [
    {
     "data": {
      "text/plain": [
       "id         0\n",
       "f0         0\n",
       "f1         0\n",
       "f2         0\n",
       "product    0\n",
       "dtype: int64"
      ]
     },
     "execution_count": 6,
     "metadata": {},
     "output_type": "execute_result"
    }
   ],
   "source": [
    "df0.isna().sum()"
   ]
  },
  {
   "cell_type": "code",
   "execution_count": 7,
   "id": "a6086e7a",
   "metadata": {},
   "outputs": [
    {
     "data": {
      "text/plain": [
       "0"
      ]
     },
     "execution_count": 7,
     "metadata": {},
     "output_type": "execute_result"
    }
   ],
   "source": [
    "df0.duplicated().sum()"
   ]
  },
  {
   "cell_type": "code",
   "execution_count": 8,
   "id": "4ccb5ecb",
   "metadata": {},
   "outputs": [
    {
     "name": "stdout",
     "output_type": "stream",
     "text": [
      "<class 'pandas.core.frame.DataFrame'>\n",
      "RangeIndex: 100000 entries, 0 to 99999\n",
      "Data columns (total 5 columns):\n",
      " #   Column   Non-Null Count   Dtype  \n",
      "---  ------   --------------   -----  \n",
      " 0   id       100000 non-null  object \n",
      " 1   f0       100000 non-null  float64\n",
      " 2   f1       100000 non-null  float64\n",
      " 3   f2       100000 non-null  float64\n",
      " 4   product  100000 non-null  float64\n",
      "dtypes: float64(4), object(1)\n",
      "memory usage: 3.8+ MB\n"
     ]
    },
    {
     "data": {
      "text/html": [
       "<div>\n",
       "<style scoped>\n",
       "    .dataframe tbody tr th:only-of-type {\n",
       "        vertical-align: middle;\n",
       "    }\n",
       "\n",
       "    .dataframe tbody tr th {\n",
       "        vertical-align: top;\n",
       "    }\n",
       "\n",
       "    .dataframe thead th {\n",
       "        text-align: right;\n",
       "    }\n",
       "</style>\n",
       "<table border=\"1\" class=\"dataframe\">\n",
       "  <thead>\n",
       "    <tr style=\"text-align: right;\">\n",
       "      <th></th>\n",
       "      <th>id</th>\n",
       "      <th>f0</th>\n",
       "      <th>f1</th>\n",
       "      <th>f2</th>\n",
       "      <th>product</th>\n",
       "    </tr>\n",
       "  </thead>\n",
       "  <tbody>\n",
       "    <tr>\n",
       "      <th>31132</th>\n",
       "      <td>ikw6y</td>\n",
       "      <td>8.621909</td>\n",
       "      <td>2.323338</td>\n",
       "      <td>2.002572</td>\n",
       "      <td>53.906522</td>\n",
       "    </tr>\n",
       "    <tr>\n",
       "      <th>56080</th>\n",
       "      <td>ciUBt</td>\n",
       "      <td>7.743088</td>\n",
       "      <td>-6.465719</td>\n",
       "      <td>3.997740</td>\n",
       "      <td>107.813044</td>\n",
       "    </tr>\n",
       "    <tr>\n",
       "      <th>2018</th>\n",
       "      <td>ApizE</td>\n",
       "      <td>-14.537875</td>\n",
       "      <td>-2.667378</td>\n",
       "      <td>4.001069</td>\n",
       "      <td>110.992147</td>\n",
       "    </tr>\n",
       "    <tr>\n",
       "      <th>11488</th>\n",
       "      <td>9B3TQ</td>\n",
       "      <td>6.399290</td>\n",
       "      <td>0.072018</td>\n",
       "      <td>4.003013</td>\n",
       "      <td>107.813044</td>\n",
       "    </tr>\n",
       "    <tr>\n",
       "      <th>35430</th>\n",
       "      <td>EtVPj</td>\n",
       "      <td>11.351907</td>\n",
       "      <td>-2.218216</td>\n",
       "      <td>1.990380</td>\n",
       "      <td>53.906522</td>\n",
       "    </tr>\n",
       "  </tbody>\n",
       "</table>\n",
       "</div>"
      ],
      "text/plain": [
       "          id         f0        f1        f2     product\n",
       "31132  ikw6y   8.621909  2.323338  2.002572   53.906522\n",
       "56080  ciUBt   7.743088 -6.465719  3.997740  107.813044\n",
       "2018   ApizE -14.537875 -2.667378  4.001069  110.992147\n",
       "11488  9B3TQ   6.399290  0.072018  4.003013  107.813044\n",
       "35430  EtVPj  11.351907 -2.218216  1.990380   53.906522"
      ]
     },
     "execution_count": 8,
     "metadata": {},
     "output_type": "execute_result"
    }
   ],
   "source": [
    "df1.info()\n",
    "df1.sample(5)"
   ]
  },
  {
   "cell_type": "code",
   "execution_count": 9,
   "id": "2778e1fe",
   "metadata": {},
   "outputs": [
    {
     "data": {
      "text/plain": [
       "id         0\n",
       "f0         0\n",
       "f1         0\n",
       "f2         0\n",
       "product    0\n",
       "dtype: int64"
      ]
     },
     "execution_count": 9,
     "metadata": {},
     "output_type": "execute_result"
    }
   ],
   "source": [
    "df1.isna().sum()"
   ]
  },
  {
   "cell_type": "code",
   "execution_count": 10,
   "id": "1e2892c4",
   "metadata": {},
   "outputs": [
    {
     "data": {
      "text/plain": [
       "0"
      ]
     },
     "execution_count": 10,
     "metadata": {},
     "output_type": "execute_result"
    }
   ],
   "source": [
    "df1.duplicated().sum()"
   ]
  },
  {
   "cell_type": "code",
   "execution_count": 11,
   "id": "bc29459d",
   "metadata": {},
   "outputs": [
    {
     "name": "stdout",
     "output_type": "stream",
     "text": [
      "<class 'pandas.core.frame.DataFrame'>\n",
      "RangeIndex: 100000 entries, 0 to 99999\n",
      "Data columns (total 5 columns):\n",
      " #   Column   Non-Null Count   Dtype  \n",
      "---  ------   --------------   -----  \n",
      " 0   id       100000 non-null  object \n",
      " 1   f0       100000 non-null  float64\n",
      " 2   f1       100000 non-null  float64\n",
      " 3   f2       100000 non-null  float64\n",
      " 4   product  100000 non-null  float64\n",
      "dtypes: float64(4), object(1)\n",
      "memory usage: 3.8+ MB\n"
     ]
    },
    {
     "data": {
      "text/html": [
       "<div>\n",
       "<style scoped>\n",
       "    .dataframe tbody tr th:only-of-type {\n",
       "        vertical-align: middle;\n",
       "    }\n",
       "\n",
       "    .dataframe tbody tr th {\n",
       "        vertical-align: top;\n",
       "    }\n",
       "\n",
       "    .dataframe thead th {\n",
       "        text-align: right;\n",
       "    }\n",
       "</style>\n",
       "<table border=\"1\" class=\"dataframe\">\n",
       "  <thead>\n",
       "    <tr style=\"text-align: right;\">\n",
       "      <th></th>\n",
       "      <th>id</th>\n",
       "      <th>f0</th>\n",
       "      <th>f1</th>\n",
       "      <th>f2</th>\n",
       "      <th>product</th>\n",
       "    </tr>\n",
       "  </thead>\n",
       "  <tbody>\n",
       "    <tr>\n",
       "      <th>96233</th>\n",
       "      <td>yHFks</td>\n",
       "      <td>1.793412</td>\n",
       "      <td>-0.844903</td>\n",
       "      <td>9.836457</td>\n",
       "      <td>160.247983</td>\n",
       "    </tr>\n",
       "    <tr>\n",
       "      <th>76903</th>\n",
       "      <td>ompP0</td>\n",
       "      <td>0.732579</td>\n",
       "      <td>-1.555308</td>\n",
       "      <td>2.485855</td>\n",
       "      <td>87.527750</td>\n",
       "    </tr>\n",
       "    <tr>\n",
       "      <th>20635</th>\n",
       "      <td>lvDcD</td>\n",
       "      <td>2.763539</td>\n",
       "      <td>0.348009</td>\n",
       "      <td>6.206000</td>\n",
       "      <td>37.203366</td>\n",
       "    </tr>\n",
       "    <tr>\n",
       "      <th>20017</th>\n",
       "      <td>T0psN</td>\n",
       "      <td>0.879634</td>\n",
       "      <td>-0.446097</td>\n",
       "      <td>1.769496</td>\n",
       "      <td>7.111203</td>\n",
       "    </tr>\n",
       "    <tr>\n",
       "      <th>50718</th>\n",
       "      <td>HKsNY</td>\n",
       "      <td>-1.599274</td>\n",
       "      <td>3.161977</td>\n",
       "      <td>-2.620899</td>\n",
       "      <td>49.967576</td>\n",
       "    </tr>\n",
       "  </tbody>\n",
       "</table>\n",
       "</div>"
      ],
      "text/plain": [
       "          id        f0        f1        f2     product\n",
       "96233  yHFks  1.793412 -0.844903  9.836457  160.247983\n",
       "76903  ompP0  0.732579 -1.555308  2.485855   87.527750\n",
       "20635  lvDcD  2.763539  0.348009  6.206000   37.203366\n",
       "20017  T0psN  0.879634 -0.446097  1.769496    7.111203\n",
       "50718  HKsNY -1.599274  3.161977 -2.620899   49.967576"
      ]
     },
     "execution_count": 11,
     "metadata": {},
     "output_type": "execute_result"
    }
   ],
   "source": [
    "df2.info()\n",
    "df2.sample(5)"
   ]
  },
  {
   "cell_type": "code",
   "execution_count": 12,
   "id": "c4d2b4ea",
   "metadata": {},
   "outputs": [
    {
     "data": {
      "text/plain": [
       "id         0\n",
       "f0         0\n",
       "f1         0\n",
       "f2         0\n",
       "product    0\n",
       "dtype: int64"
      ]
     },
     "execution_count": 12,
     "metadata": {},
     "output_type": "execute_result"
    }
   ],
   "source": [
    "df2.isna().sum()"
   ]
  },
  {
   "cell_type": "code",
   "execution_count": 13,
   "id": "d466a2c2",
   "metadata": {},
   "outputs": [
    {
     "data": {
      "text/plain": [
       "0"
      ]
     },
     "execution_count": 13,
     "metadata": {},
     "output_type": "execute_result"
    }
   ],
   "source": [
    "df2.duplicated().sum()"
   ]
  },
  {
   "cell_type": "code",
   "execution_count": 14,
   "id": "d71be2b6",
   "metadata": {},
   "outputs": [
    {
     "data": {
      "text/html": [
       "<div>\n",
       "<style scoped>\n",
       "    .dataframe tbody tr th:only-of-type {\n",
       "        vertical-align: middle;\n",
       "    }\n",
       "\n",
       "    .dataframe tbody tr th {\n",
       "        vertical-align: top;\n",
       "    }\n",
       "\n",
       "    .dataframe thead th {\n",
       "        text-align: right;\n",
       "    }\n",
       "</style>\n",
       "<table border=\"1\" class=\"dataframe\">\n",
       "  <thead>\n",
       "    <tr style=\"text-align: right;\">\n",
       "      <th></th>\n",
       "      <th>f0</th>\n",
       "      <th>f1</th>\n",
       "      <th>f2</th>\n",
       "      <th>product</th>\n",
       "    </tr>\n",
       "  </thead>\n",
       "  <tbody>\n",
       "    <tr>\n",
       "      <th>count</th>\n",
       "      <td>100000.000000</td>\n",
       "      <td>100000.000000</td>\n",
       "      <td>100000.000000</td>\n",
       "      <td>100000.000000</td>\n",
       "    </tr>\n",
       "    <tr>\n",
       "      <th>mean</th>\n",
       "      <td>0.500419</td>\n",
       "      <td>0.250143</td>\n",
       "      <td>2.502647</td>\n",
       "      <td>92.500000</td>\n",
       "    </tr>\n",
       "    <tr>\n",
       "      <th>std</th>\n",
       "      <td>0.871832</td>\n",
       "      <td>0.504433</td>\n",
       "      <td>3.248248</td>\n",
       "      <td>44.288691</td>\n",
       "    </tr>\n",
       "    <tr>\n",
       "      <th>min</th>\n",
       "      <td>-1.408605</td>\n",
       "      <td>-0.848218</td>\n",
       "      <td>-12.088328</td>\n",
       "      <td>0.000000</td>\n",
       "    </tr>\n",
       "    <tr>\n",
       "      <th>25%</th>\n",
       "      <td>-0.072580</td>\n",
       "      <td>-0.200881</td>\n",
       "      <td>0.287748</td>\n",
       "      <td>56.497507</td>\n",
       "    </tr>\n",
       "    <tr>\n",
       "      <th>50%</th>\n",
       "      <td>0.502360</td>\n",
       "      <td>0.250252</td>\n",
       "      <td>2.515969</td>\n",
       "      <td>91.849972</td>\n",
       "    </tr>\n",
       "    <tr>\n",
       "      <th>75%</th>\n",
       "      <td>1.073581</td>\n",
       "      <td>0.700646</td>\n",
       "      <td>4.715088</td>\n",
       "      <td>128.564089</td>\n",
       "    </tr>\n",
       "    <tr>\n",
       "      <th>max</th>\n",
       "      <td>2.362331</td>\n",
       "      <td>1.343769</td>\n",
       "      <td>16.003790</td>\n",
       "      <td>185.364347</td>\n",
       "    </tr>\n",
       "  </tbody>\n",
       "</table>\n",
       "</div>"
      ],
      "text/plain": [
       "                  f0             f1             f2        product\n",
       "count  100000.000000  100000.000000  100000.000000  100000.000000\n",
       "mean        0.500419       0.250143       2.502647      92.500000\n",
       "std         0.871832       0.504433       3.248248      44.288691\n",
       "min        -1.408605      -0.848218     -12.088328       0.000000\n",
       "25%        -0.072580      -0.200881       0.287748      56.497507\n",
       "50%         0.502360       0.250252       2.515969      91.849972\n",
       "75%         1.073581       0.700646       4.715088     128.564089\n",
       "max         2.362331       1.343769      16.003790     185.364347"
      ]
     },
     "execution_count": 14,
     "metadata": {},
     "output_type": "execute_result"
    }
   ],
   "source": [
    "df0.describe()"
   ]
  },
  {
   "cell_type": "code",
   "execution_count": 15,
   "id": "9b2b0fa0",
   "metadata": {},
   "outputs": [
    {
     "data": {
      "text/html": [
       "<div>\n",
       "<style scoped>\n",
       "    .dataframe tbody tr th:only-of-type {\n",
       "        vertical-align: middle;\n",
       "    }\n",
       "\n",
       "    .dataframe tbody tr th {\n",
       "        vertical-align: top;\n",
       "    }\n",
       "\n",
       "    .dataframe thead th {\n",
       "        text-align: right;\n",
       "    }\n",
       "</style>\n",
       "<table border=\"1\" class=\"dataframe\">\n",
       "  <thead>\n",
       "    <tr style=\"text-align: right;\">\n",
       "      <th></th>\n",
       "      <th>f0</th>\n",
       "      <th>f1</th>\n",
       "      <th>f2</th>\n",
       "      <th>product</th>\n",
       "    </tr>\n",
       "  </thead>\n",
       "  <tbody>\n",
       "    <tr>\n",
       "      <th>count</th>\n",
       "      <td>100000.000000</td>\n",
       "      <td>100000.000000</td>\n",
       "      <td>100000.000000</td>\n",
       "      <td>100000.000000</td>\n",
       "    </tr>\n",
       "    <tr>\n",
       "      <th>mean</th>\n",
       "      <td>1.141296</td>\n",
       "      <td>-4.796579</td>\n",
       "      <td>2.494541</td>\n",
       "      <td>68.825000</td>\n",
       "    </tr>\n",
       "    <tr>\n",
       "      <th>std</th>\n",
       "      <td>8.965932</td>\n",
       "      <td>5.119872</td>\n",
       "      <td>1.703572</td>\n",
       "      <td>45.944423</td>\n",
       "    </tr>\n",
       "    <tr>\n",
       "      <th>min</th>\n",
       "      <td>-31.609576</td>\n",
       "      <td>-26.358598</td>\n",
       "      <td>-0.018144</td>\n",
       "      <td>0.000000</td>\n",
       "    </tr>\n",
       "    <tr>\n",
       "      <th>25%</th>\n",
       "      <td>-6.298551</td>\n",
       "      <td>-8.267985</td>\n",
       "      <td>1.000021</td>\n",
       "      <td>26.953261</td>\n",
       "    </tr>\n",
       "    <tr>\n",
       "      <th>50%</th>\n",
       "      <td>1.153055</td>\n",
       "      <td>-4.813172</td>\n",
       "      <td>2.011479</td>\n",
       "      <td>57.085625</td>\n",
       "    </tr>\n",
       "    <tr>\n",
       "      <th>75%</th>\n",
       "      <td>8.621015</td>\n",
       "      <td>-1.332816</td>\n",
       "      <td>3.999904</td>\n",
       "      <td>107.813044</td>\n",
       "    </tr>\n",
       "    <tr>\n",
       "      <th>max</th>\n",
       "      <td>29.421755</td>\n",
       "      <td>18.734063</td>\n",
       "      <td>5.019721</td>\n",
       "      <td>137.945408</td>\n",
       "    </tr>\n",
       "  </tbody>\n",
       "</table>\n",
       "</div>"
      ],
      "text/plain": [
       "                  f0             f1             f2        product\n",
       "count  100000.000000  100000.000000  100000.000000  100000.000000\n",
       "mean        1.141296      -4.796579       2.494541      68.825000\n",
       "std         8.965932       5.119872       1.703572      45.944423\n",
       "min       -31.609576     -26.358598      -0.018144       0.000000\n",
       "25%        -6.298551      -8.267985       1.000021      26.953261\n",
       "50%         1.153055      -4.813172       2.011479      57.085625\n",
       "75%         8.621015      -1.332816       3.999904     107.813044\n",
       "max        29.421755      18.734063       5.019721     137.945408"
      ]
     },
     "execution_count": 15,
     "metadata": {},
     "output_type": "execute_result"
    }
   ],
   "source": [
    "df1.describe()"
   ]
  },
  {
   "cell_type": "code",
   "execution_count": 16,
   "id": "db34187a",
   "metadata": {},
   "outputs": [
    {
     "data": {
      "text/html": [
       "<div>\n",
       "<style scoped>\n",
       "    .dataframe tbody tr th:only-of-type {\n",
       "        vertical-align: middle;\n",
       "    }\n",
       "\n",
       "    .dataframe tbody tr th {\n",
       "        vertical-align: top;\n",
       "    }\n",
       "\n",
       "    .dataframe thead th {\n",
       "        text-align: right;\n",
       "    }\n",
       "</style>\n",
       "<table border=\"1\" class=\"dataframe\">\n",
       "  <thead>\n",
       "    <tr style=\"text-align: right;\">\n",
       "      <th></th>\n",
       "      <th>f0</th>\n",
       "      <th>f1</th>\n",
       "      <th>f2</th>\n",
       "      <th>product</th>\n",
       "    </tr>\n",
       "  </thead>\n",
       "  <tbody>\n",
       "    <tr>\n",
       "      <th>count</th>\n",
       "      <td>100000.000000</td>\n",
       "      <td>100000.000000</td>\n",
       "      <td>100000.000000</td>\n",
       "      <td>100000.000000</td>\n",
       "    </tr>\n",
       "    <tr>\n",
       "      <th>mean</th>\n",
       "      <td>0.002023</td>\n",
       "      <td>-0.002081</td>\n",
       "      <td>2.495128</td>\n",
       "      <td>95.000000</td>\n",
       "    </tr>\n",
       "    <tr>\n",
       "      <th>std</th>\n",
       "      <td>1.732045</td>\n",
       "      <td>1.730417</td>\n",
       "      <td>3.473445</td>\n",
       "      <td>44.749921</td>\n",
       "    </tr>\n",
       "    <tr>\n",
       "      <th>min</th>\n",
       "      <td>-8.760004</td>\n",
       "      <td>-7.084020</td>\n",
       "      <td>-11.970335</td>\n",
       "      <td>0.000000</td>\n",
       "    </tr>\n",
       "    <tr>\n",
       "      <th>25%</th>\n",
       "      <td>-1.162288</td>\n",
       "      <td>-1.174820</td>\n",
       "      <td>0.130359</td>\n",
       "      <td>59.450441</td>\n",
       "    </tr>\n",
       "    <tr>\n",
       "      <th>50%</th>\n",
       "      <td>0.009424</td>\n",
       "      <td>-0.009482</td>\n",
       "      <td>2.484236</td>\n",
       "      <td>94.925613</td>\n",
       "    </tr>\n",
       "    <tr>\n",
       "      <th>75%</th>\n",
       "      <td>1.158535</td>\n",
       "      <td>1.163678</td>\n",
       "      <td>4.858794</td>\n",
       "      <td>130.595027</td>\n",
       "    </tr>\n",
       "    <tr>\n",
       "      <th>max</th>\n",
       "      <td>7.238262</td>\n",
       "      <td>7.844801</td>\n",
       "      <td>16.739402</td>\n",
       "      <td>190.029838</td>\n",
       "    </tr>\n",
       "  </tbody>\n",
       "</table>\n",
       "</div>"
      ],
      "text/plain": [
       "                  f0             f1             f2        product\n",
       "count  100000.000000  100000.000000  100000.000000  100000.000000\n",
       "mean        0.002023      -0.002081       2.495128      95.000000\n",
       "std         1.732045       1.730417       3.473445      44.749921\n",
       "min        -8.760004      -7.084020     -11.970335       0.000000\n",
       "25%        -1.162288      -1.174820       0.130359      59.450441\n",
       "50%         0.009424      -0.009482       2.484236      94.925613\n",
       "75%         1.158535       1.163678       4.858794     130.595027\n",
       "max         7.238262       7.844801      16.739402     190.029838"
      ]
     },
     "execution_count": 16,
     "metadata": {},
     "output_type": "execute_result"
    }
   ],
   "source": [
    "df2.describe()"
   ]
  },
  {
   "cell_type": "markdown",
   "id": "deff20a5",
   "metadata": {},
   "source": [
    "Значений NAN нет. Категориальных признаков нет. Явных дубликатов нет. Все типы соответствуют требуемым. "
   ]
  },
  {
   "cell_type": "markdown",
   "id": "3f7b76b9",
   "metadata": {},
   "source": [
    "Идентификатор не несет в себе никакой полезной информации. Можно его удалить "
   ]
  },
  {
   "cell_type": "code",
   "execution_count": 17,
   "id": "5fd99154",
   "metadata": {},
   "outputs": [],
   "source": [
    "df0 = df0.drop(columns= 'id').reset_index(drop = True)\n",
    "df1 = df1.drop(columns= 'id').reset_index(drop = True)\n",
    "df2 = df2.drop(columns= 'id').reset_index(drop = True)"
   ]
  },
  {
   "cell_type": "code",
   "execution_count": 18,
   "id": "7aca5754",
   "metadata": {},
   "outputs": [
    {
     "data": {
      "text/html": [
       "<div>\n",
       "<style scoped>\n",
       "    .dataframe tbody tr th:only-of-type {\n",
       "        vertical-align: middle;\n",
       "    }\n",
       "\n",
       "    .dataframe tbody tr th {\n",
       "        vertical-align: top;\n",
       "    }\n",
       "\n",
       "    .dataframe thead th {\n",
       "        text-align: right;\n",
       "    }\n",
       "</style>\n",
       "<table border=\"1\" class=\"dataframe\">\n",
       "  <thead>\n",
       "    <tr style=\"text-align: right;\">\n",
       "      <th></th>\n",
       "      <th>f0</th>\n",
       "      <th>f1</th>\n",
       "      <th>f2</th>\n",
       "      <th>product</th>\n",
       "    </tr>\n",
       "  </thead>\n",
       "  <tbody>\n",
       "    <tr>\n",
       "      <th>0</th>\n",
       "      <td>0.705745</td>\n",
       "      <td>-0.497823</td>\n",
       "      <td>1.221170</td>\n",
       "      <td>105.280062</td>\n",
       "    </tr>\n",
       "    <tr>\n",
       "      <th>1</th>\n",
       "      <td>1.334711</td>\n",
       "      <td>-0.340164</td>\n",
       "      <td>4.365080</td>\n",
       "      <td>73.037750</td>\n",
       "    </tr>\n",
       "    <tr>\n",
       "      <th>2</th>\n",
       "      <td>1.022732</td>\n",
       "      <td>0.151990</td>\n",
       "      <td>1.419926</td>\n",
       "      <td>85.265647</td>\n",
       "    </tr>\n",
       "    <tr>\n",
       "      <th>3</th>\n",
       "      <td>-0.032172</td>\n",
       "      <td>0.139033</td>\n",
       "      <td>2.978566</td>\n",
       "      <td>168.620776</td>\n",
       "    </tr>\n",
       "    <tr>\n",
       "      <th>4</th>\n",
       "      <td>1.988431</td>\n",
       "      <td>0.155413</td>\n",
       "      <td>4.751769</td>\n",
       "      <td>154.036647</td>\n",
       "    </tr>\n",
       "  </tbody>\n",
       "</table>\n",
       "</div>"
      ],
      "text/plain": [
       "         f0        f1        f2     product\n",
       "0  0.705745 -0.497823  1.221170  105.280062\n",
       "1  1.334711 -0.340164  4.365080   73.037750\n",
       "2  1.022732  0.151990  1.419926   85.265647\n",
       "3 -0.032172  0.139033  2.978566  168.620776\n",
       "4  1.988431  0.155413  4.751769  154.036647"
      ]
     },
     "execution_count": 18,
     "metadata": {},
     "output_type": "execute_result"
    }
   ],
   "source": [
    "df0.head()"
   ]
  },
  {
   "cell_type": "code",
   "execution_count": 19,
   "id": "b15a4f24",
   "metadata": {},
   "outputs": [
    {
     "data": {
      "text/html": [
       "<div>\n",
       "<style scoped>\n",
       "    .dataframe tbody tr th:only-of-type {\n",
       "        vertical-align: middle;\n",
       "    }\n",
       "\n",
       "    .dataframe tbody tr th {\n",
       "        vertical-align: top;\n",
       "    }\n",
       "\n",
       "    .dataframe thead th {\n",
       "        text-align: right;\n",
       "    }\n",
       "</style>\n",
       "<table border=\"1\" class=\"dataframe\">\n",
       "  <thead>\n",
       "    <tr style=\"text-align: right;\">\n",
       "      <th></th>\n",
       "      <th>f0</th>\n",
       "      <th>f1</th>\n",
       "      <th>f2</th>\n",
       "      <th>product</th>\n",
       "    </tr>\n",
       "  </thead>\n",
       "  <tbody>\n",
       "    <tr>\n",
       "      <th>0</th>\n",
       "      <td>-15.001348</td>\n",
       "      <td>-8.276000</td>\n",
       "      <td>-0.005876</td>\n",
       "      <td>3.179103</td>\n",
       "    </tr>\n",
       "    <tr>\n",
       "      <th>1</th>\n",
       "      <td>14.272088</td>\n",
       "      <td>-3.475083</td>\n",
       "      <td>0.999183</td>\n",
       "      <td>26.953261</td>\n",
       "    </tr>\n",
       "    <tr>\n",
       "      <th>2</th>\n",
       "      <td>6.263187</td>\n",
       "      <td>-5.948386</td>\n",
       "      <td>5.001160</td>\n",
       "      <td>134.766305</td>\n",
       "    </tr>\n",
       "    <tr>\n",
       "      <th>3</th>\n",
       "      <td>-13.081196</td>\n",
       "      <td>-11.506057</td>\n",
       "      <td>4.999415</td>\n",
       "      <td>137.945408</td>\n",
       "    </tr>\n",
       "    <tr>\n",
       "      <th>4</th>\n",
       "      <td>12.702195</td>\n",
       "      <td>-8.147433</td>\n",
       "      <td>5.004363</td>\n",
       "      <td>134.766305</td>\n",
       "    </tr>\n",
       "  </tbody>\n",
       "</table>\n",
       "</div>"
      ],
      "text/plain": [
       "          f0         f1        f2     product\n",
       "0 -15.001348  -8.276000 -0.005876    3.179103\n",
       "1  14.272088  -3.475083  0.999183   26.953261\n",
       "2   6.263187  -5.948386  5.001160  134.766305\n",
       "3 -13.081196 -11.506057  4.999415  137.945408\n",
       "4  12.702195  -8.147433  5.004363  134.766305"
      ]
     },
     "execution_count": 19,
     "metadata": {},
     "output_type": "execute_result"
    }
   ],
   "source": [
    "df1.head()"
   ]
  },
  {
   "cell_type": "code",
   "execution_count": 20,
   "id": "e58fd1b7",
   "metadata": {},
   "outputs": [
    {
     "data": {
      "text/html": [
       "<div>\n",
       "<style scoped>\n",
       "    .dataframe tbody tr th:only-of-type {\n",
       "        vertical-align: middle;\n",
       "    }\n",
       "\n",
       "    .dataframe tbody tr th {\n",
       "        vertical-align: top;\n",
       "    }\n",
       "\n",
       "    .dataframe thead th {\n",
       "        text-align: right;\n",
       "    }\n",
       "</style>\n",
       "<table border=\"1\" class=\"dataframe\">\n",
       "  <thead>\n",
       "    <tr style=\"text-align: right;\">\n",
       "      <th></th>\n",
       "      <th>f0</th>\n",
       "      <th>f1</th>\n",
       "      <th>f2</th>\n",
       "      <th>product</th>\n",
       "    </tr>\n",
       "  </thead>\n",
       "  <tbody>\n",
       "    <tr>\n",
       "      <th>0</th>\n",
       "      <td>-1.146987</td>\n",
       "      <td>0.963328</td>\n",
       "      <td>-0.828965</td>\n",
       "      <td>27.758673</td>\n",
       "    </tr>\n",
       "    <tr>\n",
       "      <th>1</th>\n",
       "      <td>0.262778</td>\n",
       "      <td>0.269839</td>\n",
       "      <td>-2.530187</td>\n",
       "      <td>56.069697</td>\n",
       "    </tr>\n",
       "    <tr>\n",
       "      <th>2</th>\n",
       "      <td>0.194587</td>\n",
       "      <td>0.289035</td>\n",
       "      <td>-5.586433</td>\n",
       "      <td>62.871910</td>\n",
       "    </tr>\n",
       "    <tr>\n",
       "      <th>3</th>\n",
       "      <td>2.236060</td>\n",
       "      <td>-0.553760</td>\n",
       "      <td>0.930038</td>\n",
       "      <td>114.572842</td>\n",
       "    </tr>\n",
       "    <tr>\n",
       "      <th>4</th>\n",
       "      <td>-0.515993</td>\n",
       "      <td>1.716266</td>\n",
       "      <td>5.899011</td>\n",
       "      <td>149.600746</td>\n",
       "    </tr>\n",
       "  </tbody>\n",
       "</table>\n",
       "</div>"
      ],
      "text/plain": [
       "         f0        f1        f2     product\n",
       "0 -1.146987  0.963328 -0.828965   27.758673\n",
       "1  0.262778  0.269839 -2.530187   56.069697\n",
       "2  0.194587  0.289035 -5.586433   62.871910\n",
       "3  2.236060 -0.553760  0.930038  114.572842\n",
       "4 -0.515993  1.716266  5.899011  149.600746"
      ]
     },
     "execution_count": 20,
     "metadata": {},
     "output_type": "execute_result"
    }
   ],
   "source": [
    "df2.head()"
   ]
  },
  {
   "cell_type": "markdown",
   "id": "1f04dfc5",
   "metadata": {},
   "source": [
    "Можно переходить к предобработке "
   ]
  },
  {
   "cell_type": "markdown",
   "id": "41e5a17d",
   "metadata": {},
   "source": [
    "## 2.3 Выборки"
   ]
  },
  {
   "cell_type": "markdown",
   "id": "9783526a",
   "metadata": {},
   "source": [
    "Подготовим выборки для каждого региона."
   ]
  },
  {
   "cell_type": "code",
   "execution_count": 21,
   "id": "8ff5302b",
   "metadata": {},
   "outputs": [],
   "source": [
    "def make_samples(df:pd.DataFrame, target:str):\n",
    "    x = df.drop(columns=[target])\n",
    "    y = df[target]\n",
    "    x_train, x_test, y_train, y_test = train_test_split(x, y, test_size=0.25, random_state=42)    \n",
    "    return x_train, x_test, y_train, y_test"
   ]
  },
  {
   "cell_type": "code",
   "execution_count": 22,
   "id": "796e0c04",
   "metadata": {},
   "outputs": [
    {
     "name": "stdout",
     "output_type": "stream",
     "text": [
      "(75000, 3) (25000, 3) (75000,) (25000,)\n",
      "(75000, 3) (25000, 3) (75000,) (25000,)\n",
      "(75000, 3) (25000, 3) (75000,) (25000,)\n"
     ]
    }
   ],
   "source": [
    "target = 'product'\n",
    "x0_train, x0_test, y0_train, y0_test = make_samples(df0, target)\n",
    "x1_train, x1_test, y1_train, y1_test = make_samples(df1, target)\n",
    "x2_train, x2_test, y2_train, y2_test = make_samples(df2, target)\n",
    "\n",
    "print(x0_train.shape, x0_test.shape, y0_train.shape, y0_test.shape)\n",
    "print(x1_train.shape, x1_test.shape, y1_train.shape, y1_test.shape)\n",
    "print(x2_train.shape, x2_test.shape, y2_train.shape, y2_test.shape)"
   ]
  },
  {
   "cell_type": "markdown",
   "id": "aa977be1",
   "metadata": {},
   "source": [
    "Масштабируем признаки, так как для регрессии это важно"
   ]
  },
  {
   "cell_type": "code",
   "execution_count": 23,
   "id": "847883b0",
   "metadata": {},
   "outputs": [],
   "source": [
    "scaler = StandardScaler()\n",
    "\n",
    "scaler.fit(x0_train) \n",
    "x0_train = scaler.transform(x0_train)\n",
    "x0_test = scaler.transform(x0_test)\n",
    "\n",
    "scaler.fit(x1_train) \n",
    "x1_train = scaler.transform(x1_train)\n",
    "x1_test = scaler.transform(x1_test)\n",
    "\n",
    "scaler.fit(x2_train) \n",
    "x2_train = scaler.transform(x2_train)\n",
    "x2_test = scaler.transform(x2_test)"
   ]
  },
  {
   "cell_type": "markdown",
   "id": "f305ae8f",
   "metadata": {},
   "source": [
    "## 2.4 Построение модели"
   ]
  },
  {
   "cell_type": "markdown",
   "id": "622fa421",
   "metadata": {},
   "source": [
    "Для каждого региона построим модель"
   ]
  },
  {
   "cell_type": "code",
   "execution_count": 24,
   "id": "3ee4eb73",
   "metadata": {},
   "outputs": [],
   "source": [
    "model0, model1, model2 = LinearRegression(), LinearRegression(), LinearRegression()"
   ]
  },
  {
   "cell_type": "code",
   "execution_count": 25,
   "id": "524327b2",
   "metadata": {},
   "outputs": [
    {
     "data": {
      "text/plain": [
       "LinearRegression()"
      ]
     },
     "execution_count": 25,
     "metadata": {},
     "output_type": "execute_result"
    }
   ],
   "source": [
    "model0.fit(x0_train, y0_train)  \n",
    "model1.fit(x1_train, y1_train) \n",
    "model2.fit(x2_train, y2_train) "
   ]
  },
  {
   "cell_type": "code",
   "execution_count": 26,
   "id": "55a9fb03",
   "metadata": {},
   "outputs": [],
   "source": [
    "predictions0 = model0.predict(x0_test)  \n",
    "predictions1 = model1.predict(x1_test) \n",
    "predictions2 = model2.predict(x2_test) "
   ]
  },
  {
   "cell_type": "markdown",
   "id": "68ec36bf",
   "metadata": {},
   "source": [
    "Посчитаем RMSE для каждой модели и RMSE константных моделей"
   ]
  },
  {
   "cell_type": "code",
   "execution_count": 27,
   "id": "48f6a5e7",
   "metadata": {},
   "outputs": [
    {
     "name": "stdout",
     "output_type": "stream",
     "text": [
      "RMSE модели 0: 37.75660035026169\n",
      "RMSE модели 1: 0.8902801001028846\n",
      "RMSE модели 2: 40.145872311342174\n"
     ]
    }
   ],
   "source": [
    "print('RMSE модели 0:', mean_squared_error(y0_test, predictions0)**0.5)\n",
    "print('RMSE модели 1:', mean_squared_error(y1_test, predictions1)**0.5)\n",
    "print('RMSE модели 2:', mean_squared_error(y2_test, predictions2)**0.5)"
   ]
  },
  {
   "cell_type": "code",
   "execution_count": 28,
   "id": "298b1623",
   "metadata": {},
   "outputs": [
    {
     "name": "stdout",
     "output_type": "stream",
     "text": [
      "RMSE константной модели 0: 44.27662690128472\n",
      "RMSE константной модели 1: 45.9446674190625\n",
      "RMSE константной модели 2: 44.78232422904734\n"
     ]
    }
   ],
   "source": [
    "PREDICTED0_MEAN = pd.Series(y0_test.mean(), index=y0_test.index)\n",
    "PREDICTED1_MEAN = pd.Series(y1_test.mean(), index=y1_test.index)\n",
    "PREDICTED2_MEAN = pd.Series(y2_test.mean(), index=y2_test.index)\n",
    "print('RMSE константной модели 0:', mean_squared_error(y0_test, PREDICTED0_MEAN)**0.5)\n",
    "print('RMSE константной модели 1:', mean_squared_error(y1_test, PREDICTED1_MEAN)**0.5)\n",
    "print('RMSE константной модели 2:', mean_squared_error(y2_test, PREDICTED2_MEAN)**0.5)"
   ]
  },
  {
   "cell_type": "markdown",
   "id": "d06b8b15",
   "metadata": {},
   "source": [
    "Выведем среднее значение предсказанного объема добычи"
   ]
  },
  {
   "cell_type": "code",
   "execution_count": 29,
   "id": "0d3fdfe2",
   "metadata": {},
   "outputs": [
    {
     "name": "stdout",
     "output_type": "stream",
     "text": [
      "Предсказания для участка 0: 92.39879990657768\n",
      "Предсказания для участка 1: 68.7128780391376\n",
      "Предсказания для участка 2: 94.77102387765939\n"
     ]
    }
   ],
   "source": [
    "print('Предсказания для участка 0:', predictions0.mean())\n",
    "print('Предсказания для участка 1:', predictions1.mean())\n",
    "print('Предсказания для участка 2:', predictions2.mean())"
   ]
  },
  {
   "cell_type": "markdown",
   "id": "d5b08fa3",
   "metadata": {},
   "source": [
    "**Вывод по этапу 2**:\n",
    "\n",
    "В ходе данного этапа:\n",
    "\n",
    "1. Были загружены и проверены данные по 3-ем регионам\n",
    "2. Выполнена проверка данных на NaN, дубликаты, типы переменных в датафреймах\n",
    "3. Отброшены данные, которые не требуются для модели\n",
    "4. Подготовлены выборки и построены модели (Логистические регрессии) по 3-ем месторождлениям\n",
    "5. Посчитаны RMSE для моделей по 3-ем регионам и константным моделям\n",
    "\n",
    "Выводы:\n",
    "\n",
    "1. Значения NaN, дубликаты, ошибки в типах переменных отсутствуют\n",
    "2. Столбец 'id' не требуется для мат.модели, так как очевидно, что на объем добычи не влияет никак\n",
    "3. RMSE моделей меньше константы. У RMSE для региона 1 подозрительно малое RMSE по сравнению с остальными, но каких-либо ошибок найти не удалось"
   ]
  },
  {
   "cell_type": "markdown",
   "id": "602c51a7",
   "metadata": {},
   "source": [
    "# 3. Подготовка к расчету прибыли"
   ]
  },
  {
   "cell_type": "markdown",
   "id": "5902ba0e",
   "metadata": {},
   "source": [
    "Запишем необходимые значения в переменные "
   ]
  },
  {
   "cell_type": "code",
   "execution_count": 30,
   "id": "32a0ebd3",
   "metadata": {},
   "outputs": [],
   "source": [
    "budget = 1e10 #Бюджет разработки\n",
    "points_to_check = 500 #Количество точек для разведки\n",
    "points_to_choose = 200 #Количество точек для разработки\n",
    "profit = 450e3 #Прибыль с одной тысячи барелей\n",
    "probability_of_loses = 2.5 #Допустимая вероятность убытков"
   ]
  },
  {
   "cell_type": "markdown",
   "id": "0446c322",
   "metadata": {},
   "source": [
    "Рассчитаем достаточный объём сырья для безубыточной разработки новой скважины"
   ]
  },
  {
   "cell_type": "code",
   "execution_count": 31,
   "id": "5007095e",
   "metadata": {},
   "outputs": [],
   "source": [
    "price_of_point = budget/points_to_choose #Цена одной точки\n",
    "profitable_product_from_point = price_of_point/profit  #Требуемый объем для окупаемости  "
   ]
  },
  {
   "cell_type": "code",
   "execution_count": 32,
   "id": "a2d7568e",
   "metadata": {},
   "outputs": [
    {
     "name": "stdout",
     "output_type": "stream",
     "text": [
      "Требуемый объем добычи для окупаемости одной скважины: 111.11111111111111\n"
     ]
    }
   ],
   "source": [
    "print('Требуемый объем добычи для окупаемости одной скважины:', profitable_product_from_point)"
   ]
  },
  {
   "cell_type": "markdown",
   "id": "fd11f4dd",
   "metadata": {},
   "source": [
    "Сравним со средним запасом по каждому региону"
   ]
  },
  {
   "cell_type": "code",
   "execution_count": 33,
   "id": "e3dfe314",
   "metadata": {},
   "outputs": [
    {
     "data": {
      "text/plain": [
       "92.50000000000001"
      ]
     },
     "execution_count": 33,
     "metadata": {},
     "output_type": "execute_result"
    }
   ],
   "source": [
    "df0['product'].mean()"
   ]
  },
  {
   "cell_type": "code",
   "execution_count": 34,
   "id": "78646cad",
   "metadata": {},
   "outputs": [
    {
     "data": {
      "image/png": "[encoded data removed]",
      "text/plain": [
       "<Figure size 432x288 with 1 Axes>"
      ]
     },
     "metadata": {
      "needs_background": "light"
     },
     "output_type": "display_data"
    }
   ],
   "source": [
    "df0['product'].hist(bins=100);"
   ]
  },
  {
   "cell_type": "code",
   "execution_count": 35,
   "id": "b59db1c0",
   "metadata": {},
   "outputs": [
    {
     "data": {
      "text/plain": [
       "68.82500000000002"
      ]
     },
     "execution_count": 35,
     "metadata": {},
     "output_type": "execute_result"
    }
   ],
   "source": [
    "df1['product'].mean()"
   ]
  },
  {
   "cell_type": "code",
   "execution_count": 36,
   "id": "13c2f207",
   "metadata": {},
   "outputs": [
    {
     "data": {
      "image/png": "[encoded data removed]",
      "text/plain": [
       "<Figure size 432x288 with 1 Axes>"
      ]
     },
     "metadata": {
      "needs_background": "light"
     },
     "output_type": "display_data"
    }
   ],
   "source": [
    "df1['product'].hist(bins=100);"
   ]
  },
  {
   "cell_type": "code",
   "execution_count": 37,
   "id": "d8172265",
   "metadata": {},
   "outputs": [
    {
     "data": {
      "text/plain": [
       "95.00000000000004"
      ]
     },
     "execution_count": 37,
     "metadata": {},
     "output_type": "execute_result"
    }
   ],
   "source": [
    "df2['product'].mean()"
   ]
  },
  {
   "cell_type": "code",
   "execution_count": 38,
   "id": "8a02bde4",
   "metadata": {},
   "outputs": [
    {
     "data": {
      "image/png": "[encoded data removed]",
      "text/plain": [
       "<Figure size 432x288 with 1 Axes>"
      ]
     },
     "metadata": {
      "needs_background": "light"
     },
     "output_type": "display_data"
    }
   ],
   "source": [
    "df2['product'].hist(bins=100);"
   ]
  },
  {
   "cell_type": "markdown",
   "id": "1d4b6847",
   "metadata": {},
   "source": [
    "**Вывод по этапу 3**:"
   ]
  },
  {
   "cell_type": "markdown",
   "id": "bad1f7fd",
   "metadata": {},
   "source": [
    "В ходе данного этапа были записаны в переменные необходимые значения, расчитан требуемый объем нефти для окупаемости одной скважины, средние значения объема. Средние значения ниже чем требуемая окупаемость. Соответственно для того чтобы разработка нефти окупилась, требуется выбирать скважины"
   ]
  },
  {
   "cell_type": "markdown",
   "id": "f4819c06",
   "metadata": {},
   "source": [
    "# 4. Расчет прибыли "
   ]
  },
  {
   "cell_type": "markdown",
   "id": "9b437342",
   "metadata": {},
   "source": [
    "Напишем функцию, которая считает прибыль от 200 скважин с самым большим объемом"
   ]
  },
  {
   "cell_type": "code",
   "execution_count": 39,
   "id": "d57e4585",
   "metadata": {},
   "outputs": [],
   "source": [
    "def calculate_profit(predictions, profit, budget, y_test):\n",
    "    predictions = predictions.sort_values(ascending = False)\n",
    "    selected = y_test[predictions.index][:200]\n",
    "    return selected.sum()*profit - budget    "
   ]
  },
  {
   "cell_type": "markdown",
   "id": "7086c8b4",
   "metadata": {},
   "source": [
    "Напишем функцию, которая считает прибыль от 200 скважин с самым большим объемом"
   ]
  },
  {
   "cell_type": "code",
   "execution_count": 40,
   "id": "3beddb6c",
   "metadata": {},
   "outputs": [
    {
     "name": "stdout",
     "output_type": "stream",
     "text": [
      "('прибыль от 200 скважин с самым большим объемом участка 0 (млрд.руб):', 3.359141114462179)\n",
      "('прибыль от 200 скважин с самым большим объемом участка 1 (млрд.руб):', 2.4150866966815108)\n",
      "('прибыль от 200 скважин с самым большим объемом участка 2 (млрд.руб):', 2.5985717593741113)\n"
     ]
    }
   ],
   "source": [
    "print(('прибыль от 200 скважин с самым большим объемом участка 0 (млрд.руб):'\n",
    "       ,calculate_profit(pd.Series(predictions0, index = y0_test.index), profit, budget, y0_test )/1e9))\n",
    "print(('прибыль от 200 скважин с самым большим объемом участка 1 (млрд.руб):'\n",
    "       ,calculate_profit(pd.Series(predictions1, index = y1_test.index), profit, budget, y1_test )/1e9))\n",
    "print(('прибыль от 200 скважин с самым большим объемом участка 2 (млрд.руб):'\n",
    "       ,calculate_profit(pd.Series(predictions2, index = y2_test.index), profit, budget, y2_test )/1e9))"
   ]
  },
  {
   "cell_type": "markdown",
   "id": "b086a628",
   "metadata": {},
   "source": [
    "# 5. Расчет рисков и прибыли каждого региона "
   ]
  },
  {
   "cell_type": "markdown",
   "id": "c2263f6f",
   "metadata": {},
   "source": [
    "Применим Bootstrap, найдем 95% доверительный интервал и риск убытков"
   ]
  },
  {
   "cell_type": "code",
   "execution_count": 41,
   "id": "3e4db27a",
   "metadata": {},
   "outputs": [],
   "source": [
    "def calculate_bootstrap(predictions, profit, budget, y_test):\n",
    "    state = np.random.RandomState(12345)  \n",
    "    values= []\n",
    "    values_quantile = []\n",
    "    for i in range(1000):\n",
    "        subsample = predictions.sample(n=500, replace=True, random_state=state) \n",
    "        values.append(calculate_profit(subsample, profit, budget, y_test))\n",
    "        subsample = predictions.sample(frac=1, replace=True, random_state=state)   \n",
    "      \n",
    "\n",
    "\n",
    "        \n",
    "    values = pd.Series(values)   \n",
    "    mean_profit = values.mean()/1e9\n",
    "    confidence_interval = [values.quantile(0.025),values.quantile(0.975)]    \n",
    "    risk =  (values < 0).mean() *100  \n",
    "    return mean_profit, confidence_interval, risk"
   ]
  },
  {
   "cell_type": "markdown",
   "id": "d608b48e",
   "metadata": {},
   "source": [
    "Найдем требуемые величины для 3-ех участков"
   ]
  },
  {
   "cell_type": "code",
   "execution_count": 42,
   "id": "b3676448",
   "metadata": {},
   "outputs": [],
   "source": [
    "mean_profit0, quantile0, risk0 = (calculate_bootstrap\n",
    "                                  (pd.Series(predictions0, index = y0_test.index), profit, budget, y0_test))"
   ]
  },
  {
   "cell_type": "code",
   "execution_count": 43,
   "id": "7c293352",
   "metadata": {},
   "outputs": [
    {
     "name": "stdout",
     "output_type": "stream",
     "text": [
      "Средняя прибыль с участка (0 млрд.руб): 0.4030751148019766\n",
      "95-квантиль: [-98609572.6877943, 902798318.3308154]\n",
      "риск убытков %: 5.7\n"
     ]
    }
   ],
   "source": [
    "print('Средняя прибыль с участка (0 млрд.руб):', mean_profit0)\n",
    "print('95-квантиль:', quantile0)\n",
    "print('риск убытков %:', risk0)"
   ]
  },
  {
   "cell_type": "code",
   "execution_count": 44,
   "id": "2e6a787e",
   "metadata": {},
   "outputs": [],
   "source": [
    "mean_profit1, quantile1, risk1 = (calculate_bootstrap\n",
    "                                  (pd.Series(predictions1, index = y1_test.index), profit, budget, y1_test))"
   ]
  },
  {
   "cell_type": "code",
   "execution_count": 45,
   "id": "32d6489a",
   "metadata": {},
   "outputs": [
    {
     "name": "stdout",
     "output_type": "stream",
     "text": [
      "Средняя прибыль с участка 1 (млрд.руб): 0.4315509980918055\n",
      "95-квантиль: [47510692.67523561, 825319606.2123216]\n",
      "риск убытков %: 1.5\n"
     ]
    }
   ],
   "source": [
    "print('Средняя прибыль с участка 1 (млрд.руб):', mean_profit1)\n",
    "print('95-квантиль:', quantile1)\n",
    "print('риск убытков %:', risk1)"
   ]
  },
  {
   "cell_type": "code",
   "execution_count": 46,
   "id": "f67cddcd",
   "metadata": {},
   "outputs": [],
   "source": [
    "mean_profit2, quantile2, risk2 = (calculate_bootstrap\n",
    "                                  (pd.Series(predictions2, index = y2_test.index), profit, budget, y2_test))"
   ]
  },
  {
   "cell_type": "code",
   "execution_count": 47,
   "id": "8cc4df8b",
   "metadata": {},
   "outputs": [
    {
     "name": "stdout",
     "output_type": "stream",
     "text": [
      "Средняя прибыль с участка 2 (млрд.руб): 0.38261847487257467\n",
      "95-квантиль: [-118181387.31946382, 918271938.2840863]\n",
      "риск убытков %: 7.5\n"
     ]
    }
   ],
   "source": [
    "print('Средняя прибыль с участка 2 (млрд.руб):', mean_profit2)\n",
    "print('95-квантиль:', quantile2)\n",
    "print('риск убытков %:', risk2)"
   ]
  },
  {
   "cell_type": "markdown",
   "id": "16389204",
   "metadata": {},
   "source": [
    "# 6. Общий вывод"
   ]
  },
  {
   "cell_type": "markdown",
   "id": "ac28055c",
   "metadata": {},
   "source": [
    "В ходе данной работы по данным о пробах нефти и скважинах в 3-ех регионах требовалось построить модель для определения региона, где добыча нефти принесёт наибольшую прибыль. Проанализировать возможную прибыль и риски техникой Bootstrap.\n",
    "\n",
    "Работа состояла из следующих шагов:\n",
    "\n",
    "1. Загрузка и подготовка данных\n",
    "2. Обучение моделей\n",
    "3. Подготовка к расчету прибыли\n",
    "4. Подготовить функцию для расчета прибыли по выбранным скважинам\n",
    "5. Посчитать риски и прибыль для полученного объема"
   ]
  },
  {
   "cell_type": "markdown",
   "id": "6c023eee",
   "metadata": {},
   "source": [
    "В ходе первого этапа были загружены необходимые библиотеки и данные. Было определено, что значений NAN нет, категориальных признаков нет, явных дубликатов нет, все типы соответствуют требуемым. Идентификатор скважины не несет в себе полезной информации, по этому столбец идентификатора был отброшен. "
   ]
  },
  {
   "cell_type": "markdown",
   "id": "b326352f",
   "metadata": {},
   "source": [
    "В ходе обучения модели так была произведена подготовка обучающих и тестовых выборок и масштабирование признаков, обучена линейная регрессия, расчитаны значения RMSE для каждой модели"
   ]
  },
  {
   "cell_type": "markdown",
   "id": "e041b7dd",
   "metadata": {},
   "source": [
    "В ходе третьего этапа были подготовлены необходимые переменные для расчета прибыли"
   ]
  },
  {
   "cell_type": "markdown",
   "id": "03cb73fb",
   "metadata": {},
   "source": [
    "В ходе четвертого этапа была подготовлена функция для расчета прибыли"
   ]
  },
  {
   "cell_type": "markdown",
   "id": "a83087dd",
   "metadata": {},
   "source": [
    "В ходе пятого этапа были опреелены средняя прибыль с каждого участка, доверительный интервал, а так же вероятность убытков"
   ]
  },
  {
   "cell_type": "markdown",
   "id": "87589345",
   "metadata": {},
   "source": [
    "**Вывод**:\n",
    "\n",
    "Указаному риску убытков в 2,5% соответствует участок 1 (1.9%)"
   ]
  }
 ],
 "metadata": {
  "ExecuteTimeLog": [
   {
    "duration": 1943,
    "start_time": "2023-09-15T08:14:05.434Z"
   },
   {
    "duration": 4,
    "start_time": "2023-09-15T08:14:07.379Z"
   },
   {
    "duration": 86,
    "start_time": "2023-09-15T08:14:07.385Z"
   },
   {
    "duration": 1493,
    "start_time": "2023-09-15T08:14:07.473Z"
   },
   {
    "duration": 34,
    "start_time": "2023-09-15T08:14:08.968Z"
   },
   {
    "duration": 15,
    "start_time": "2023-09-15T08:14:09.005Z"
   },
   {
    "duration": 82,
    "start_time": "2023-09-15T08:14:09.021Z"
   },
   {
    "duration": 47,
    "start_time": "2023-09-15T08:14:09.104Z"
   },
   {
    "duration": 10,
    "start_time": "2023-09-15T08:14:09.152Z"
   },
   {
    "duration": 66,
    "start_time": "2023-09-15T08:14:09.165Z"
   },
   {
    "duration": 31,
    "start_time": "2023-09-15T08:14:09.233Z"
   },
   {
    "duration": 25,
    "start_time": "2023-09-15T08:14:09.265Z"
   },
   {
    "duration": 126,
    "start_time": "2023-09-15T08:14:09.292Z"
   },
   {
    "duration": 58,
    "start_time": "2023-09-15T08:14:09.420Z"
   },
   {
    "duration": 53,
    "start_time": "2023-09-15T08:14:09.480Z"
   },
   {
    "duration": 45,
    "start_time": "2023-09-15T08:14:09.534Z"
   },
   {
    "duration": 17,
    "start_time": "2023-09-15T08:14:09.581Z"
   },
   {
    "duration": 10,
    "start_time": "2023-09-15T08:14:09.599Z"
   },
   {
    "duration": 37,
    "start_time": "2023-09-15T08:14:09.611Z"
   },
   {
    "duration": 28,
    "start_time": "2023-09-15T08:14:09.650Z"
   },
   {
    "duration": 8,
    "start_time": "2023-09-15T08:14:09.681Z"
   },
   {
    "duration": 46,
    "start_time": "2023-09-15T08:14:09.691Z"
   },
   {
    "duration": 30,
    "start_time": "2023-09-15T08:14:09.739Z"
   },
   {
    "duration": 14,
    "start_time": "2023-09-15T08:14:09.770Z"
   },
   {
    "duration": 35,
    "start_time": "2023-09-15T08:14:09.785Z"
   },
   {
    "duration": 29,
    "start_time": "2023-09-15T08:14:09.822Z"
   },
   {
    "duration": 197,
    "start_time": "2023-09-15T08:14:09.854Z"
   },
   {
    "duration": 11,
    "start_time": "2023-09-15T08:14:10.056Z"
   },
   {
    "duration": 27,
    "start_time": "2023-09-15T08:14:10.069Z"
   },
   {
    "duration": 17,
    "start_time": "2023-09-15T08:14:10.099Z"
   },
   {
    "duration": 18,
    "start_time": "2023-09-15T08:14:10.118Z"
   },
   {
    "duration": 24,
    "start_time": "2023-09-15T08:14:10.138Z"
   },
   {
    "duration": 17,
    "start_time": "2023-09-15T08:14:10.164Z"
   },
   {
    "duration": 306,
    "start_time": "2023-09-15T08:14:10.184Z"
   },
   {
    "duration": 5,
    "start_time": "2023-09-15T08:14:10.493Z"
   },
   {
    "duration": 526,
    "start_time": "2023-09-15T08:14:10.500Z"
   },
   {
    "duration": 18,
    "start_time": "2023-09-15T08:14:11.028Z"
   },
   {
    "duration": 282,
    "start_time": "2023-09-15T08:14:11.048Z"
   },
   {
    "duration": 3,
    "start_time": "2023-09-15T08:14:11.332Z"
   },
   {
    "duration": 29,
    "start_time": "2023-09-15T08:14:11.337Z"
   },
   {
    "duration": 5,
    "start_time": "2023-09-15T08:14:11.368Z"
   },
   {
    "duration": 1277,
    "start_time": "2023-09-15T08:14:11.375Z"
   },
   {
    "duration": 4,
    "start_time": "2023-09-15T08:14:12.654Z"
   },
   {
    "duration": 1282,
    "start_time": "2023-09-15T08:14:12.660Z"
   },
   {
    "duration": 6,
    "start_time": "2023-09-15T08:14:13.944Z"
   },
   {
    "duration": 1242,
    "start_time": "2023-09-15T08:14:13.952Z"
   },
   {
    "duration": 6,
    "start_time": "2023-09-15T08:14:15.196Z"
   }
  ],
  "kernelspec": {
   "display_name": "Python 3 (ipykernel)",
   "language": "python",
   "name": "python3"
  },
  "language_info": {
   "codemirror_mode": {
    "name": "ipython",
    "version": 3
   },
   "file_extension": ".py",
   "mimetype": "text/x-python",
   "name": "python",
   "nbconvert_exporter": "python",
   "pygments_lexer": "ipython3",
   "version": "3.11.5"
  },
  "toc": {
   "base_numbering": 1,
   "nav_menu": {},
   "number_sections": true,
   "sideBar": true,
   "skip_h1_title": true,
   "title_cell": "Table of Contents",
   "title_sidebar": "Contents",
   "toc_cell": false,
   "toc_position": {},
   "toc_section_display": true,
   "toc_window_display": false
  }
 },
 "nbformat": 4,
 "nbformat_minor": 5
}
